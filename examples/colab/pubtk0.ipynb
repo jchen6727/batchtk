{
 "cells": [
  {
   "cell_type": "markdown",
   "metadata": {
    "id": "view-in-github",
    "colab_type": "text"
   },
   "source": [
    "<a href=\"https://colab.research.google.com/github/jchen6727/batchtk/blob/development/examples/colab_driveless/batchtk0.ipynb\" target=\"_parent\"><img src=\"https://colab.research.google.com/assets/colab-badge.svg\" alt=\"Open In Colab\"/></a>"
   ]
  },
  {
   "cell_type": "markdown",
   "metadata": {
    "id": "HHio7AK092Ax"
   },
   "source": [
    "**Tutorial 0**\n",
    "\n",
    "**Note 0** This tutorial will perform an install of the `batchtk` package within a temporary Google Colab notebook, then demonstrate using the `Dispatcher`, `Runner` and `Submit` classes to run a single job.\n"
   ]
  },
  {
   "cell_type": "code",
   "execution_count": null,
   "metadata": {
    "id": "RakTiLBY3i5H"
   },
   "outputs": [],
   "source": [
    "#jupyter 0\n",
    "!pip install batchtk\n",
    "import site\n",
    "site.addsitedir('/usr/local/lib/python3.10/dist-packages')"
   ]
  },
  {
   "cell_type": "markdown",
   "metadata": {
    "id": "TGIzGKGHDA5Y"
   },
   "source": [
    "**Note 1.0** Any `!<command>` is executed in a new standalone shell (equivalent to running `<command>` in a shell script, or within a newly opened terminal, then closing the terminal). These commands clone the `batchtk` repository, perform an `editable` install, then add the path of the package to the current jupyter runtime."
   ]
  },
  {
   "cell_type": "markdown",
   "metadata": {
    "id": "j8T_A8BZNgQY"
   },
   "source": [
    "**Note 1.1** the `batchtk` package was designed with SOLID OOP principles in mind. Rather than using arguments to augment the control flow of a monolithic function, multiple classes allow for dynamic execution of relevant code.\n",
    "The `base classes` which other classes inherit from include:\n",
    "\n",
    "**Runner** which implements functionality for parsing provided `arguments` into any arbitrary scripts namespace and communicating with the **Dispatcher**\n",
    "\n",
    "**Dispatcher**: which implements functionality for updating the **Submit** with `arguments`, calling **Submit** functions to execute the appropriate arbitrary script containing the **Runner** class, and monitoring the execution of of the arbitrary script\n",
    "\n",
    "**Submit** which implements functionality for serializing the `arguments` to pass to the **Runner**, updating the **Template** with the `arguments` and communication protocols for use between the **Dispatcher** and **Runner**, and starting the arbitrary script containing the **Runner** class\n",
    "\n",
    "**Template** which implements functionality for generating and formatting arbitrary string templates for **Submit**\n",
    "\n",
    "Other classes `extend and inherit` these `base classes`, allowing for more complex interactions, for instance, by adding custom scripting, support for custom communication protocols (`stdio`, `filesystem`, `socket`), etc.\n",
    "\n",
    "Let's look at these classes, including the `base classes` and custom `extended classes`"
   ]
  },
  {
   "cell_type": "code",
   "execution_count": null,
   "metadata": {
    "id": "d9nf9qhwL4so"
   },
   "outputs": [],
   "source": [
    "#jupyter 1\n",
    "from batchtk.runtk import Runner, SocketRunner, FileRunner, INETDispatcher, SHDispatcher, Template, Submit, SHSubmitSOCK\n",
    "sockrunner = SocketRunner() # SocketRunner inherits Runner and extends it with functionality for communicating through socket.socket functions\n",
    "filerunner = FileRunner()   # FileRunner inherits Runner and extends it with functionality for communicating through file I/O\n",
    "dispatcher = INETDispatcher(project_path = \"/content\", submit = SHSubmitSOCK()) # Dispatcher requires instantiation of a Submit object, inherits Dispatcher and extends it with functionality for communicating through file socket.socket functions related to INET (TCP) protocol\n",
    "template = Template(\"\"\"{sh}.sh, {foo}.run, {bar}.out, {baz}.sgl, {sockname}\\necho 'hello'\"\"\") # Template requires a string to call\n",
    "submit = Submit(submit_template=template, script_template=template) #Submit requires both a submit and script template (both are Template instances)\n",
    "socksh = SHSubmitSOCK() #SHSubmitSOCK is a custom class inheriting submit which uses .sh scripts to execute code and establishes handling for socket.socket communications"
   ]
  },
  {
   "cell_type": "markdown",
   "metadata": {
    "id": "WXXVKZCAYrxd"
   },
   "source": [
    "**Note 2** Using the `help()` function on any of these classes helps demonstrate both the base functionality and extended functionality. (call on the imported class name, not the instance). Alternatively, the `dir()` function can be called on the created instance to see it's `attributes` and `methods`"
   ]
  },
  {
   "cell_type": "code",
   "execution_count": null,
   "metadata": {
    "id": "xdZuf5K_U_rT"
   },
   "outputs": [],
   "source": [
    "#jupyter 2\n",
    "print(\"-----help(SocketRunner)-----\")\n",
    "help(SocketRunner)\n",
    "print(\"\\n-----help(INETDispatcher)-----\\n\")\n",
    "help(INETDispatcher)\n",
    "print(\"\\n-----dir(socksh)-----\")\n",
    "dir(socksh)"
   ]
  },
  {
   "cell_type": "markdown",
   "metadata": {
    "id": "KFI0_zY6ZK5M"
   },
   "source": [
    "**Note 3** Let's look closer at the custom submit `SHSubmitSock` by printing the generated instance\n",
    "\n",
    "Note that it uses the base `__repr__` from `Submit` to handle print statements (verify this with `help()`), it shows the command executed by the Submit to call the arbitrary script (`submit:`), the script file that will be run (`script:`), the path where the script file will be written (`path:`), the files/communication addresses which allow the `dispatcher` and `runner` instances to communicate (`handles:`) and the keyword arguments that must be filled (`kwargs:`).\n",
    "\n",
    "special arguments (`project_path`, `output_path`, `label` and `env`) will be automatically handled by the **Dispatcher** and **Submit** prior to job creation by default. `env` specifically will be filled with the serialized arguments for the **Runner**. (`sockname`) is a unique argument that allows for establishing communication between specialized **Dispatcher** and **Runner** scripts. It is handled by **Dispatcher** automatically. (`command`) is something that is updated to our preference (i.e. to some variant of `mpiexec -np 4 nrniv...` or some other call)\n",
    "\n",
    "**Note 3.1**\n",
    "notice the use of `nohup` and piping of `stderr` and `stdout` to the `{output_path)/{label}.run` file which prevents blocking by the `{command}`."
   ]
  },
  {
   "cell_type": "code",
   "execution_count": null,
   "metadata": {
    "id": "lobFffJ_cvJR"
   },
   "outputs": [],
   "source": [
    "#jupyter 3\n",
    "print(socksh)"
   ]
  },
  {
   "cell_type": "markdown",
   "source": [
    "**Note 4.0** Note that in the case of `socksh`, beyond the `runtk.SUBMIT` and `runtk.STDOUT` handles implemented in other `Submit` classes, it also includes a handle specific for socket based communication (`runtk.SOCKET`)."
   ],
   "metadata": {
    "id": "Ja2K6t58Js2f"
   }
  },
  {
   "cell_type": "markdown",
   "metadata": {
    "id": "yiq_ZYd9Zz1y"
   },
   "source": [
    "**Note 4.1**\n",
    "Now let's create a custom `Submit` class that can handle executing arbitrary scripts in a `Google Colab` environment. In this custom submission class, we can have some arbitrary `FOO`, `BAR`, `BAZ` values passed to the environment, to be defined by our `Dispatcher`. We can also have it provide a `process ID` (`pid`) which we can capture and return as a `job_id`.\n",
    "\n",
    "By inheriting from `Submit`, we preserve the original functionality and relevant interfaces, and then extend with our own. For instance, here we call the `__repr__` class method which is inherited from `Submit` which displays the relevant strings for the submit command, the script, the path of the script, the handles and keyword arguments."
   ]
  },
  {
   "cell_type": "code",
   "execution_count": null,
   "metadata": {
    "id": "EPlK_zn6gcZv"
   },
   "outputs": [],
   "source": [
    "#jupyter 4\n",
    "class GCSubmit(Submit):\n",
    "  def __init__(self):\n",
    "    # creates a Submit with the templates we define\n",
    "    super().__init__(\n",
    "        submit_template = Template(\"sh {output_path}/{label}.sh\"),\n",
    "        script_template = Template(\"\"\"\\\n",
    "#!/bin/bash\n",
    "cd {project_path}\n",
    "export FOO={foovalue}\n",
    "export BAR={barvalue}\n",
    "export BAZ={bazvalue}\n",
    "{env}\n",
    "nohup python /content/runner.py > {output_path}/{label}.run 2>&1 &\n",
    "pid=$!\n",
    "echo $pid >&1\n",
    "\"\"\"\n",
    "        )\n",
    "    )\n",
    "  def submit_job(self):\n",
    "    # using this submit_job, we can add some handling of stdout, job failure (i.e. if stdout does not return an integer value as expected),\n",
    "    # extending the functionality of Submit with this exception handling.\n",
    "    proc = super().submit_job()\n",
    "    try:\n",
    "      self.job_id = int(proc.stdout)\n",
    "    except Exception as e:\n",
    "      raise(Exception(\"{}\\nJob submission failed:\\n{}\\n{}\\n{}\\n{}\".format(e, self.submit, self.script, proc.stdout, proc.stderr)))\n",
    "    return self.job_id\n",
    "\n",
    "gcs = GCSubmit()\n",
    "print(\"-----print(gcs)-----\")\n",
    "print(gcs) # inherited functionality from the base Submit class\n",
    "print(\"\\n-----dir(gcs)-----\\n\")\n",
    "dir(gcs)\n"
   ]
  },
  {
   "cell_type": "markdown",
   "source": [
    "**Note 5** Before supplying the `gcs` instance to the `SHDispatcher()` constructor, we can permanently update the templates by calling the `update_templates()` method. Now every job created by the `dispatcher` instance will share this updated value."
   ],
   "metadata": {
    "id": "rXkFc5y9MN-l"
   }
  },
  {
   "cell_type": "code",
   "source": [
    "#jupyter 5\n",
    "gcs.update_templates(foovalue='\"A\"') #update the template instance (this will permanently update the template)\n",
    "print(gcs.templates.script) #print the template script which contains the 'export FOO={foovalue}'"
   ],
   "metadata": {
    "id": "KLdjQIR5dRts"
   },
   "execution_count": null,
   "outputs": []
  },
  {
   "cell_type": "markdown",
   "metadata": {
    "id": "rgYwO0zOh64Z"
   },
   "source": [
    "**Note 6** Now we can pass the custom submit instance to our **SHDispatcher** which extends the base **Dispatcher** with support for `shell` (/`bash`/`powershell`/`z shell` ...) scripts\n",
    "\n",
    "**Note 6.1** Additionally, note the other arguments passed to `SHDispatcher`, which include a `project_path`, which specifies the directory of input files, the `output_path`, which specifies where the files generated by the dispatcher instance and the shell script should be written to, and the `gid` a unique identifier for the dispatcher which acts as a label."
   ]
  },
  {
   "cell_type": "code",
   "execution_count": null,
   "metadata": {
    "id": "KmsW8WnQ1ZDF"
   },
   "outputs": [],
   "source": [
    "#jupyter 6\n",
    "dispatcher = SHDispatcher(project_path='/content', output_path='./batch', submit=gcs, gid='example')\n",
    "print(dispatcher.submit) # prints the dispatcher.submit"
   ]
  },
  {
   "cell_type": "markdown",
   "metadata": {
    "id": "MQabG58KjEeF"
   },
   "source": [
    "**Note 6** To pass arguments to the **Runner** script, we will call `update_env` from the dispatcher. The argument is a dictionary of `key:value` pairs.\n"
   ]
  },
  {
   "cell_type": "code",
   "execution_count": null,
   "metadata": {
    "id": "j4aOkYP8NNkL"
   },
   "outputs": [],
   "source": [
    "#jupyter 7\n",
    "dispatcher.update_env({'strvalue': '1',\n",
    "                       'intvalue': 2,\n",
    "                       'fltvalue': 3.0})\n",
    "print(dispatcher.submit)"
   ]
  },
  {
   "cell_type": "markdown",
   "metadata": {
    "id": "LCjrbtEanO1L"
   },
   "source": [
    "**Note 6** Upon job creation through the `.create_job()` method, the `{env}`, `{project_path}`, `{output_path}` and `{label}` are filled by the dispatcher class based on arguments passed to it. We will also pass the method the `keyword:arg` pairs for `foovalue`, `barvalue` and `bazvalue` to fill in all the strings of the\n",
    "\n",
    "the `{env}` will be replaced with a custom `serialization` (in this case, exported string values) that can then be deserialized by the **runner** in the `runner.py` script, now let's create a job and review the job submission."
   ]
  },
  {
   "cell_type": "code",
   "execution_count": null,
   "metadata": {
    "id": "9lKwvcaSOot7"
   },
   "outputs": [],
   "source": [
    "#jupyter 8\n",
    "dispatcher.create_job(barvalue='\"B\"',\n",
    "                      bazvalue='\"C\"')\n",
    "print(dispatcher.submit) # see the new submit"
   ]
  },
  {
   "cell_type": "markdown",
   "metadata": {
    "id": "6q8an5R0qUns"
   },
   "source": [
    "**Note 7** Let's download and check a basic `runner.py` using the `Runner` class."
   ]
  },
  {
   "cell_type": "code",
   "execution_count": null,
   "metadata": {
    "id": "cEm0uh6ZqgB7"
   },
   "outputs": [],
   "source": [
    "#jupyter 9\n",
    "!curl https://raw.githubusercontent.com/jchen6727/batchtk/development/examples/colab/basic_runner.py > /content/runner.py\n",
    "!cat /content/runner.py"
   ]
  },
  {
   "cell_type": "markdown",
   "metadata": {
    "id": "UjnpvyPLxsR0"
   },
   "source": [
    "**Note 10** Notice that the runner.py script automatically captures the `arguments` passed in `{env}` in the `runner.mappings` attribute as a dictionary of `key:value` pairs. We'll have it print the job ID with `os.getpid()` and then print the `arguments` passed to it, which we will be able to see in `/content/example.run` after submitting the job via the `dispatcher.submit_job()` function"
   ]
  },
  {
   "cell_type": "code",
   "execution_count": null,
   "metadata": {
    "id": "fIaw01n5O5Zq"
   },
   "outputs": [],
   "source": [
    "#jupyter 10\n",
    "dispatcher.submit_job()\n",
    "dispatcher.job_id # prints the job_id, should match the printed pid from the runner.py script"
   ]
  },
  {
   "cell_type": "markdown",
   "source": [
    "**Note 11** Finally, let's evaluate the output of the `job` created by the dispatcher instance. From the contents of the shell script, we see that the `stdout` (and `stderr`) of the job is captured in a filename stored in one of the dispatcher `handles` (`runtk.STDOUT`)."
   ],
   "metadata": {
    "id": "htbCJTGQabc4"
   }
  },
  {
   "cell_type": "code",
   "source": [
    "from batchtk import runtk #retrieve runtk constants\n",
    "print(\"contents of {}:\\n\".format(dispatcher.handles[runtk.STDOUT])) #see the handle\n",
    "!cat {dispatcher.handles[runtk.STDOUT]} #print the contents of the handle"
   ],
   "metadata": {
    "id": "AdDQW8HNMAbH"
   },
   "execution_count": null,
   "outputs": []
  }
 ],
 "metadata": {
  "colab": {
   "provenance": [],
   "include_colab_link": true
  },
  "kernelspec": {
   "display_name": "Python 3",
   "name": "python3"
  },
  "language_info": {
   "name": "python"
  }
 },
 "nbformat": 4,
 "nbformat_minor": 0
}
