{
 "cells": [
  {
   "cell_type": "markdown",
   "metadata": {
    "id": "view-in-github",
    "colab_type": "text"
   },
   "source": [
    "<a href=\"https://colab.research.google.com/github/jchen6727/batchtk/blob/development/examples/colab_driveless/batchtk1.ipynb\" target=\"_parent\"><img src=\"https://colab.research.google.com/assets/colab-badge.svg\" alt=\"Open In Colab\"/></a>"
   ]
  },
  {
   "cell_type": "markdown",
   "metadata": {
    "id": "HHio7AK092Ax"
   },
   "source": [
    "**Tutorial 1**\n",
    "\n",
    "**Note 0** This tutorial will set use the `batchtk` from tutorial 1 with socket communication features\n"
   ]
  },
  {
   "cell_type": "code",
   "execution_count": null,
   "metadata": {
    "id": "RakTiLBY3i5H"
   },
   "outputs": [],
   "source": [
    "#jupyter 0\n",
    "!pip install batchtk\n",
    "import site\n",
    "site.addsitedir('/usr/local/lib/python3.10/dist-packages')"
   ]
  },
  {
   "cell_type": "markdown",
   "metadata": {
    "id": "pLmhNgy80Nj2"
   },
   "source": [
    "**Note 1** This time we'll focus on the **INETDispatcher** which uses `INET` (TCP) to communicate with the host. Let's inherit the `INETDispatcher` and an example `Submit`, the one that handles sockets on the `SH` environment."
   ]
  },
  {
   "cell_type": "code",
   "execution_count": null,
   "metadata": {
    "id": "d9nf9qhwL4so"
   },
   "outputs": [],
   "source": [
    "#jupyter 1\n",
    "from batchtk.runtk import INETDispatcher, Submit, SHSubmitSOCK, Template\n",
    "print(SHSubmitSOCK())\n"
   ]
  },
  {
   "cell_type": "markdown",
   "metadata": {
    "id": "WXXVKZCAYrxd"
   },
   "source": [
    "**Note 2** Notice the important line:\n",
    "```\n",
    "export SOCNAME=\"{sockname}\"\n",
    "```\n",
    "this is what we can use to establish the socket address which the `Dispatcher` and `Runner` can communicate through.\n",
    "\n",
    "Let's extend the `Submit` with a new `class` that extends functionality to allow for `socket` communication on `Google Colab`\n",
    "\n",
    "For reference, here is our old code:\n",
    "```\n",
    "class GCSubmit(Submit):\n",
    "  def __init__(self):\n",
    "    # creates a Submit with the templates we define\n",
    "    super().__init__(\n",
    "        submit_template = Template(\"sh {output_path}/{label}.sh\"),\n",
    "        script_template = Template(\"\"\"\\\n",
    "#!/bin/bash\n",
    "cd {project_path}\n",
    "export FOO={foovalue}\n",
    "export BAR={barvalue}\n",
    "export BAZ={bazvalue}\n",
    "{env}\n",
    "nohup python /content/runner.py > {output_path}/{label}.run 2>&1 &\n",
    "pid=$!\n",
    "echo $pid >&1\n",
    "\"\"\"\n",
    "        )\n",
    "    )\n",
    "  def submit_job(self):\n",
    "    # using this submit_job, we can add some handling of stdout, job failure (i.e. if stdout does not return an integer value as expected),\n",
    "    # extending the functionality of Submit with this exception handling.\n",
    "    proc = super().submit_job()\n",
    "    try:\n",
    "      self.job_id = int(proc.stdout)\n",
    "    except Exception as e:\n",
    "      raise(Exception(\"{}\\nJob submission failed:\\n{}\\n{}\\n{}\\n{}\".format(e, self.submit, self.script, proc.stdout, proc.stderr)))\n",
    "    return self.job_id\n",
    "\n",
    "gcs = GCSubmit()\n",
    "print(gcs)\n",
    "```"
   ]
  },
  {
   "cell_type": "code",
   "execution_count": null,
   "metadata": {
    "id": "xdZuf5K_U_rT"
   },
   "outputs": [],
   "source": [
    "#jupyter 2\n",
    "class GCSubmitSOCK(Submit):\n",
    "  def __init__(self):\n",
    "    # creates a Submit with the templates we define\n",
    "    super().__init__(\n",
    "        submit_template = Template(\"sh {output_path}/{label}.sh\"),\n",
    "        script_template = Template(\"\"\"\\\n",
    "#!/bin/bash\n",
    "cd {project_path}\n",
    "export SOCNAME=\"{sockname}\"\n",
    "{env}\n",
    "nohup python /content/runner.py > {output_path}/{label}.run 2>&1 &\n",
    "pid=$!\n",
    "echo $pid >&1\n",
    "\"\"\"\n",
    "        )\n",
    "    )\n",
    "  def submit_job(self):\n",
    "    # using this submit_job, we can add some handling of stdout, job failure (i.e. if stdout does not return an integer value as expected),\n",
    "    # extending the functionality of Submit with this exception handling.\n",
    "    proc = super().submit_job()\n",
    "    try:\n",
    "      self.job_id = int(proc.stdout)\n",
    "    except Exception as e:\n",
    "      raise(Exception(\"{}\\nJob submission failed:\\n{}\\n{}\\n{}\\n{}\".format(e, self.submit, self.script, proc.stdout, proc.stderr)))\n",
    "    return self.job_id\n",
    "\n",
    "gcs = GCSubmitSOCK()"
   ]
  },
  {
   "cell_type": "markdown",
   "metadata": {
    "id": "KFI0_zY6ZK5M"
   },
   "source": [
    "**Note 3.0** N.B, the `socname={sockname}` provides a field that the INETDispatcher can fill as it requests a TCP port for communication. This happens at job creation"
   ]
  },
  {
   "cell_type": "markdown",
   "metadata": {
    "id": "rgYwO0zOh64Z"
   },
   "source": [
    "**Note 3.1** Now we can pass the custom submission to our **INETDispatcher** which extends the base **SHDispatcher** with support for communication."
   ]
  },
  {
   "cell_type": "code",
   "execution_count": null,
   "metadata": {
    "id": "KmsW8WnQ1ZDF"
   },
   "outputs": [],
   "source": [
    "#jupyter 3\n",
    "dispatcher = INETDispatcher(project_path='/content', output_path='./batch', submit=gcs, gid='sock_example')\n",
    "print(dispatcher.submit) # prints the dispatcher.submit"
   ]
  },
  {
   "cell_type": "markdown",
   "metadata": {
    "id": "MQabG58KjEeF"
   },
   "source": [
    "**Note 6** To pass arguments to the **Runner** script, we will call `update_env` from the dispatcher. The argument is a dictionary of `key:value` pairs. Additionally, we can update the arbitrary `FOO`, `BAR` and `BAZ` values from the `dispatcher.submit`"
   ]
  },
  {
   "cell_type": "code",
   "execution_count": null,
   "metadata": {
    "id": "j4aOkYP8NNkL"
   },
   "outputs": [],
   "source": [
    "#jupyter 6\n",
    "dispatcher.update_env({'strvalue': '1',\n",
    "                       'intvalue': 2,\n",
    "                       'fltvalue': 3.0})\n",
    "print(dispatcher.submit)"
   ]
  },
  {
   "cell_type": "markdown",
   "metadata": {
    "id": "LCjrbtEanO1L"
   },
   "source": [
    "**Note 7** Upon job creation, the `{env}`, `{project_path}`, `{output_path}`  and `{label}` are filled.\n",
    "\n",
    "the `{env}` will be replaced with a custom `serialization` (in this case, exported string values) that can then be deserialized by the **runner** in the `runner.py` script"
   ]
  },
  {
   "cell_type": "code",
   "execution_count": null,
   "metadata": {
    "id": "9lKwvcaSOot7"
   },
   "outputs": [],
   "source": [
    "#jupyter 7\n",
    "dispatcher.create_job()\n",
    "print(dispatcher.submit) # see the new submit"
   ]
  },
  {
   "cell_type": "markdown",
   "metadata": {
    "id": "6q8an5R0qUns"
   },
   "source": [
    "**Note 8** Let's download and check a more advanced `socket_runner.py` using the `Runner` class."
   ]
  },
  {
   "cell_type": "code",
   "execution_count": null,
   "metadata": {
    "id": "cEm0uh6ZqgB7"
   },
   "outputs": [],
   "source": [
    "#jupyter 8\n",
    "!curl https://raw.githubusercontent.com/jchen6727/batchtk/development/examples/colab/socket_runner.py > /content/runner.py\n",
    "!cat /content/runner.py"
   ]
  },
  {
   "cell_type": "markdown",
   "metadata": {
    "id": "UjnpvyPLxsR0"
   },
   "source": [
    "**Note 9** This new runner is similar to the one in the `batchtk0.ipynb`. Of note, it also calls a connect in order to establish communication with the `SOCNAME` TCP port, and finally calls `runner.close()` in order to deallocate the opened socket.\n",
    "\n",
    "On the same end, the `dispatcher` also calls a `dispatcher.clean` to deallocate the opened socket.\n",
    "\n",
    "N.B. generally sockets are deallocated with the completion of the function. We can use `lsof` to check this; however, it is considered good programming practice to `deallocate` and `free` resources when they are no longer in use..."
   ]
  },
  {
   "cell_type": "code",
   "execution_count": null,
   "metadata": {
    "id": "fIaw01n5O5Zq"
   },
   "outputs": [],
   "source": [
    "#jupyter 9\n",
    "dispatcher.submit_job()\n",
    "connection, runner_address = dispatcher.accept()\n",
    "recv_message = dispatcher.recv()\n",
    "dispatcher.job_id # prints the job_id, should match the printed pid from the runner.py script\n",
    "print(connection)\n",
    "print(recv_message)\n",
    "dispatcher.clean()\n"
   ]
  },
  {
   "cell_type": "code",
   "execution_count": null,
   "metadata": {
    "id": "JKyJyrmG9Sel"
   },
   "outputs": [],
   "source": [
    "!lsof\n"
   ]
  }
 ],
 "metadata": {
  "colab": {
   "provenance": [],
   "include_colab_link": true
  },
  "kernelspec": {
   "display_name": "Python 3",
   "name": "python3"
  },
  "language_info": {
   "name": "python"
  }
 },
 "nbformat": 4,
 "nbformat_minor": 0
}
