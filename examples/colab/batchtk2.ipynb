{
 "cells": [
  {
   "cell_type": "markdown",
   "metadata": {
    "id": "view-in-github",
    "colab_type": "text"
   },
   "source": [
    "<a href=\"https://colab.research.google.com/github/jchen6727/batchtk/blob/release/examples/colab/batchtk2.ipynb\" target=\"_parent\"><img src=\"https://colab.research.google.com/assets/colab-badge.svg\" alt=\"Open In Colab\"/></a>"
   ]
  },
  {
   "cell_type": "markdown",
   "metadata": {
    "id": "HHio7AK092Ax"
   },
   "source": [
    "**Tutorial 2**\n",
    "\n",
    "**Note 0** This tutorial will demonstrate using the `dispatcher`<->`runner` pair from tutorial 2 with socket communication features to run a group of simulations\n"
   ]
  },
  {
   "cell_type": "code",
   "execution_count": null,
   "metadata": {
    "id": "RakTiLBY3i5H"
   },
   "outputs": [],
   "source": [
    "#jupyter 0\n",
    "!pip install batchtk\n",
    "import site\n",
    "site.addsitedir('/usr/local/lib/python3.10/dist-packages')\n",
    "!curl https://raw.githubusercontent.com/jchen6727/batchtk/release/examples/colab/socket_runner.py > /content/runner.py"
   ]
  },
  {
   "cell_type": "markdown",
   "metadata": {
    "id": "pLmhNgy80Nj2"
   },
   "source": [
    "**Note 1** This time we'll use the **INETDispatcher** which uses `INET sockets` (TCP) to communicate with the host. Let's inherit the `INETDispatcher` as well as recreate our Submit from batchtk2"
   ]
  },
  {
   "cell_type": "code",
   "execution_count": null,
   "metadata": {
    "id": "d9nf9qhwL4so"
   },
   "outputs": [],
   "source": [
    "from batchtk.runtk import INETDispatcher, Submit, Template\n",
    "#jupyter 1\n",
    "class GCSubmitSOCK(Submit):\n",
    "  def __init__(self):\n",
    "    # creates a Submit with the templates we define\n",
    "    super().__init__(\n",
    "        submit_template = Template(\"sh {output_path}/{label}.sh\"),\n",
    "        script_template = Template(\"\"\"\\\n",
    "#!/bin/bash\n",
    "cd {project_path}\n",
    "export SOCNAME=\"{sockname}\"\n",
    "{env}\n",
    "nohup python /content/runner.py > {output_path}/{label}.run 2>&1 &\n",
    "pid=$!\n",
    "echo $pid >&1\n",
    "\"\"\"\n",
    "        )\n",
    "    )\n",
    "  def submit_job(self):\n",
    "    # using this submit_job, we can add some handling of stdout, job failure (i.e. if stdout does not return an integer value as expected),\n",
    "    # extending the functionality of Submit with this exception handling.\n",
    "    proc = super().submit_job()\n",
    "    try:\n",
    "      self.job_id = int(proc.stdout)\n",
    "    except Exception as e:\n",
    "      raise(Exception(\"{}\\nJob submission failed:\\n{}\\n{}\\n{}\\n{}\".format(e, self.submit, self.script, proc.stdout, proc.stderr)))\n",
    "    return self.job_id\n",
    "\n",
    "gcs = GCSubmitSOCK()"
   ]
  },
  {
   "cell_type": "markdown",
   "metadata": {
    "id": "WXXVKZCAYrxd"
   },
   "source": [
    "**Note 2**\n",
    "Now we'll create functions wrapping the `dispatcher->submit->receive` calls.\n",
    "Let's also create a series of job configurations to run"
   ]
  },
  {
   "cell_type": "code",
   "execution_count": null,
   "metadata": {
    "id": "xdZuf5K_U_rT"
   },
   "outputs": [],
   "source": [
    "#jupyter 2\n",
    "def start_job(config, index):\n",
    "  dispatcher = INETDispatcher(project_path='/content', output_path='./batch', submit=gcs, gid='batch_example{}'.format(index))\n",
    "  dispatcher.update_env(config)\n",
    "  dispatcher.create_job()\n",
    "  dispatcher.submit_job()\n",
    "  return dispatcher\n",
    "\n",
    "def recv_job(dispatcher):\n",
    "  connection, runner_address = dispatcher.accept()\n",
    "  print( (connection, runner_address) )\n",
    "  message = dispatcher.recv()\n",
    "  dispatcher.clean()\n",
    "  return message\n",
    "\n",
    "\n",
    "configurations = [{'x': i, 'y': j, 'z': k} for i, j, k in zip(range(1,4), range(4,7), range(7,10))]\n",
    "print(configurations)"
   ]
  },
  {
   "cell_type": "markdown",
   "metadata": {
    "id": "KFI0_zY6ZK5M"
   },
   "source": [
    "**Note 3** Now we can use `for` loops to create a series of jobs and aggregate the outputs."
   ]
  },
  {
   "cell_type": "code",
   "execution_count": null,
   "metadata": {
    "id": "KmsW8WnQ1ZDF"
   },
   "outputs": [],
   "source": [
    "#jupyter 3\n",
    "dispatchers = []\n",
    "for index, config in enumerate(configurations):\n",
    "  dispatchers.append(start_job(config, index))\n",
    "\n",
    "messages = []\n",
    "for dispatcher in dispatchers:\n",
    "  messages.append(recv_job(dispatcher))\n",
    "\n",
    "print(messages)"
   ]
  }
 ],
 "metadata": {
  "colab": {
   "provenance": [],
   "include_colab_link": true
  },
  "kernelspec": {
   "display_name": "Python 3",
   "name": "python3"
  },
  "language_info": {
   "name": "python"
  }
 },
 "nbformat": 4,
 "nbformat_minor": 0
}
