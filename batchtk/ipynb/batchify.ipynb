{
 "cells": [
  {
   "cell_type": "code",
   "execution_count": null,
   "metadata": {},
   "outputs": [],
   "source": [
    "import pandas\n",
    "import itertools\n",
    "\n",
    "def dcx(**kwargs):\n",
    "    for instance in itertools.product(*kwargs.values()):\n",
    "        yield dict(zip(kwargs.keys(), instance))\n",
    "    \n",
    "test = {'a': [0, 1],\n",
    "        'b': ['x', 'y', 'z'],\n",
    "        'c': [2, 3, 4, 5]}\n",
    "\n",
    "for batch in dcx(**test):\n",
    "    print(batch)"
   ]
  },
  {
   "cell_type": "code",
   "execution_count": null,
   "metadata": {},
   "outputs": [],
   "source": [
    "bins = []\n",
    "bin_size = 3\n",
    "\n",
    "curr_size = 0\n",
    "curr_batch = []\n",
    "for run, batch in enumerate(dcx(**test)):\n",
    "    batch[\"run\"] = run\n",
    "    curr_batch.append(pandas.Series(batch))\n",
    "    curr_size += 1\n",
    "    if curr_size == bin_size:\n",
    "        bins.append(pandas.DataFrame(curr_batch))\n",
    "        curr_batch = []\n",
    "        curr_size = 0\n",
    "\n",
    "for _bin in bins:\n",
    "    print(_bin)\n"
   ]
  },
  {
   "cell_type": "code",
   "execution_count": null,
   "metadata": {},
   "outputs": [],
   "source": []
  }
 ],
 "metadata": {
  "kernelspec": {
   "display_name": "Python 3",
   "language": "python",
   "name": "python3"
  },
  "language_info": {
   "codemirror_mode": {
    "name": "ipython",
    "version": 3
   },
   "file_extension": ".py",
   "mimetype": "text/x-python",
   "name": "python",
   "nbconvert_exporter": "python",
   "pygments_lexer": "ipython3",
   "version": "3.6.6+"
  }
 },
 "nbformat": 4,
 "nbformat_minor": 2
}
